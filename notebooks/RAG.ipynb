{
 "cells": [
  {
   "cell_type": "code",
   "execution_count": 15,
   "metadata": {},
   "outputs": [
    {
     "data": {
      "text/plain": [
       "True"
      ]
     },
     "execution_count": 15,
     "metadata": {},
     "output_type": "execute_result"
    }
   ],
   "source": [
    "import os\n",
    "from dotenv import load_dotenv\n",
    "\n",
    "from langchain_gigachat.chat_models import GigaChat\n",
    "from langchain_huggingface import HuggingFaceEndpoint\n",
    "from langchain_core.messages import HumanMessage, SystemMessage\n",
    "from langchain_community.document_loaders.csv_loader import CSVLoader\n",
    "from langchain_huggingface.embeddings import HuggingFaceEmbeddings\n",
    "from langchain_chroma import Chroma\n",
    "import bs4\n",
    "from langchain import hub\n",
    "from langchain_core.output_parsers import StrOutputParser\n",
    "from langchain_core.runnables import RunnablePassthrough\n",
    "from langchain.prompts import PromptTemplate\n",
    "\n",
    "load_dotenv()"
   ]
  },
  {
   "cell_type": "code",
   "execution_count": 2,
   "metadata": {},
   "outputs": [],
   "source": [
    "giga_key = os.environ.get(\"GIGACHAT_CREDENTIALS\")"
   ]
  },
  {
   "cell_type": "markdown",
   "metadata": {},
   "source": [
    "## Model"
   ]
  },
  {
   "cell_type": "code",
   "execution_count": 3,
   "metadata": {},
   "outputs": [],
   "source": [
    "giga = GigaChat(credentials=giga_key, model=\"GigaChat\", timeout=30, verify_ssl_certs=False)\n",
    "giga.verbose = False"
   ]
  },
  {
   "cell_type": "code",
   "execution_count": 8,
   "metadata": {},
   "outputs": [
    {
     "data": {
      "text/plain": [
       "AIMessage(content='Привет! Как могу помочь?', additional_kwargs={}, response_metadata={'token_usage': {'prompt_tokens': 12, 'completion_tokens': 8, 'total_tokens': 20}, 'model_name': 'GigaChat:1.0.26.20', 'finish_reason': 'stop'}, id='run-65431621-8dd8-4d12-9453-c6c7412c2556-0')"
      ]
     },
     "execution_count": 8,
     "metadata": {},
     "output_type": "execute_result"
    }
   ],
   "source": [
    "giga.invoke('Hello')"
   ]
  },
  {
   "cell_type": "markdown",
   "metadata": {},
   "source": [
    "## Document loaders"
   ]
  },
  {
   "cell_type": "code",
   "execution_count": 4,
   "metadata": {},
   "outputs": [],
   "source": [
    "loader = CSVLoader('../data/wine_desc.csv', source_column='Название')\n",
    "data = loader.load()"
   ]
  },
  {
   "cell_type": "code",
   "execution_count": 5,
   "metadata": {},
   "outputs": [
    {
     "data": {
      "text/plain": [
       "[Document(metadata={'source': 'Вино \"Кремснер Хунд\" ', 'row': 0}, page_content='Название: Вино \"Кремснер Хунд\"\\nСредняя цена: 18915\\nДегустационные характеристики: Вино темно-золотистого цвета с насыщенным, сложным букетом, в котором преобладают тона спелого абрикоса, персика, мандарина и жимолости. Полное, с мягкой кислотностью, во вкусе раскрываются ароматы фруктов и специй, а в длинном послевкусии звучат минеральные ноты.\\nИнтересные факты: Вино \"Кремснер Хунд\" производится из винограда рислинг, выращенного на известковых склонах Вахау. Это один из первых белых вин Австрии, которое получило международное признание. Вина Кремснер Хунд пользуются популярностью у ценителей вина всего мира.\\nСпособ выдержки: В течение 9 месяцев в дубовых бочках.\\nСпособ ферментации: Ферментация проводится в течение 20 дней в нержавеющей стали.'),\n",
       " Document(metadata={'source': 'Шардоне \"Лес Баттарда-Монтреш\" 2018', 'row': 1}, page_content='Название: Шардоне \"Лес Баттарда-Монтреш\" 2018\\nСредняя цена: 19500\\nДегустационные характеристики: Вино светло-соломенного цвета с изысканным, утонченным букетом, в котором преобладают тона зеленого яблока, лимона и миндаля, дополненные нотами белого шоколада, ванили и цветочного меда. Гармоничное, с сбалансированной кислотностью, во вкусе раскрывается ароматами яблока и миндаля, а в долгом послевкусии звучат оттенки ванили и минералов.\\nИнтересные факты: \"Лес Баттарда-Монтреш\" - уникальное белое вино Шардоне, которое производится на винограднике площадью 0,57 га. С 1920 года оно получило название \"Pavillon Blanc du Chateau Margaux\".\\nСпособ выдержки: Дelve 12-14 месяцев в новых дубовых бочках.\\nСпособ ферментации: Ферментация проводится в течение 14-16 дней в дубовых бочках.')]"
      ]
     },
     "execution_count": 5,
     "metadata": {},
     "output_type": "execute_result"
    }
   ],
   "source": [
    "data[:2]"
   ]
  },
  {
   "cell_type": "markdown",
   "metadata": {},
   "source": [
    "## Embeddings"
   ]
  },
  {
   "cell_type": "code",
   "execution_count": 6,
   "metadata": {},
   "outputs": [],
   "source": [
    "embeddings_model = HuggingFaceEmbeddings(\n",
    "    model_name=\"intfloat/multilingual-e5-small\",\n",
    "    multi_process=True,\n",
    "    encode_kwargs={\"normalize_embeddings\": True})"
   ]
  },
  {
   "cell_type": "markdown",
   "metadata": {},
   "source": [
    "## Vector store"
   ]
  },
  {
   "cell_type": "code",
   "execution_count": 7,
   "metadata": {},
   "outputs": [],
   "source": [
    "db = Chroma.from_documents(data, embeddings_model)"
   ]
  },
  {
   "cell_type": "code",
   "execution_count": 8,
   "metadata": {},
   "outputs": [],
   "source": [
    "query = \"Что выбрать в качестве десертного вина?\"\n",
    "docs = db.similarity_search(query, k=5)"
   ]
  },
  {
   "cell_type": "code",
   "execution_count": 14,
   "metadata": {},
   "outputs": [
    {
     "name": "stdout",
     "output_type": "stream",
     "text": [
      "Название: Токайски Десертний Вино\n",
      "Средняя цена: 15000\n",
      "Дегустационные характеристики: Вино золотисто-янтарного цвета с насыщенным и сложным букетом, в котором преобладают ноты тропических фруктов, мёда и сухофруктов. Сладкое, с хорошей кислотностью, во вкусе раскрывается ароматами абрикосов, персиков и мёда, а в длинном послевкусии звучат ноты ванили и сухого финика.\n",
      "Интересные факты: Это сладкое белое вино было создано в 1650г. и по праву считается одним из лучших десертных вин в мире. Изготавливается из винограда сортов Фурминт, Харшлевелю и Зета. Вино обладает уникальным букетом и может храниться до 50 лет\n",
      "Способ выдержки: 2 года в дубовых бочках.\n",
      "Способ ферментации: Ферментация проводится в течение 14-16 дней в дубовых бочках.\n"
     ]
    }
   ],
   "source": [
    "print(docs[0].page_content)"
   ]
  },
  {
   "cell_type": "markdown",
   "metadata": {},
   "source": [
    "## RAG Chain"
   ]
  },
  {
   "cell_type": "code",
   "execution_count": 27,
   "metadata": {},
   "outputs": [],
   "source": [
    "template = (\n",
    "    \"Ты являешься профессиональным сомелье и помощником по подбору вин. \"\n",
    "    \"Используй приведенные ниже фрагменты из извлеченного контекста, чтобы ответить на вопрос и помочь пользователю. \"\n",
    "    \"Если ты не знаете ответа, просто скажи, что ты не знаешь. \"\n",
    "    \"Предлагай максимум три варианта.\\n\"\n",
    "    \"Вопрос: {question}\\n\"\n",
    "    \"Контекст: {context}\\n\"\n",
    "    \"Ответ:\"\n",
    ")\n",
    "\n",
    "prompt = PromptTemplate(template=template, input_variables=['context', 'question'])"
   ]
  },
  {
   "cell_type": "code",
   "execution_count": 28,
   "metadata": {},
   "outputs": [],
   "source": [
    "# Retrieve and generate using the relevant snippets of the blog.\n",
    "retriever = db.as_retriever()\n",
    "# prompt = hub.pull(\"rlm/rag-prompt\")\n",
    "\n",
    "def format_docs(docs):\n",
    "    return \"\\n\\n\".join(doc.page_content for doc in docs)\n",
    "\n",
    "\n",
    "rag_chain = (\n",
    "    {\"context\": retriever | format_docs, \"question\": RunnablePassthrough()}\n",
    "    | prompt\n",
    "    | giga\n",
    "    | StrOutputParser()\n",
    ")"
   ]
  },
  {
   "cell_type": "code",
   "execution_count": 29,
   "metadata": {},
   "outputs": [
    {
     "name": "stdout",
     "output_type": "stream",
     "text": [
      "Исходя из предоставленных описаний, можно предложить следующие варианты:\n",
      "\n",
      "1. **Токайски Десертний Вино** – это вино обладает богатым букетом с нотами тропических фруктов, мёда и сухофруктов, что делает его отличным выбором для тех, кто предпочитает сложные и насыщенные десертные вина. Кроме того, оно обладает высокой плотностью и сахаристостью, что позволяет ему долго храниться.\n",
      "\n",
      "2. **Вино \"Кремарто Десерт Вино\"** – имеет менее выраженный, но все же сладкий букет с тонами спелых фруктов и специй, которые могут понравиться любителям более тонких и деликатных десертных вин. Также оно отличается хорошим балансом между сладостью и кислотностью.\n",
      "\n",
      "3. **Грасса де Поджо** – несмотря на свою высокую цену, это вино выделяется своим сложным и многослойным букетом, сочетающим ароматы сухофруктов, орехов и специй. Оно может стать прекрасным выбором для ценителей утонченных и сложных десертных вин.\n"
     ]
    }
   ],
   "source": [
    "print(rag_chain.invoke('Что выбрать в качестве десертного вина?'))"
   ]
  },
  {
   "cell_type": "code",
   "execution_count": 30,
   "metadata": {},
   "outputs": [
    {
     "name": "stdout",
     "output_type": "stream",
     "text": [
      "К морепродуктам отлично подойдет белое вино **Шабли Мишель Лассер** от известного винодела Мишеля Лассера. Это вино производится из винограда сорта Шардоне и обладает ярким вкусом, прекрасно сочетающимся с блюдами из морепродуктов.\n"
     ]
    }
   ],
   "source": [
    "print(rag_chain.invoke('Посоветуй что-нибудь к морепродуктам на ужин'))"
   ]
  },
  {
   "cell_type": "code",
   "execution_count": null,
   "metadata": {},
   "outputs": [],
   "source": []
  }
 ],
 "metadata": {
  "kernelspec": {
   "display_name": ".venv",
   "language": "python",
   "name": "python3"
  },
  "language_info": {
   "codemirror_mode": {
    "name": "ipython",
    "version": 3
   },
   "file_extension": ".py",
   "mimetype": "text/x-python",
   "name": "python",
   "nbconvert_exporter": "python",
   "pygments_lexer": "ipython3",
   "version": "3.12.0"
  }
 },
 "nbformat": 4,
 "nbformat_minor": 2
}
