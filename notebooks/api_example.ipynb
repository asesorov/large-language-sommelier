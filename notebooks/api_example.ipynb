{
 "cells": [
  {
   "cell_type": "code",
   "execution_count": 1,
   "metadata": {},
   "outputs": [],
   "source": [
    "import requests\n",
    "import json\n",
    "\n",
    "BASE_URL = \"http://localhost:8000\""
   ]
  },
  {
   "cell_type": "markdown",
   "metadata": {},
   "source": [
    "### Проверка работоспособности API"
   ]
  },
  {
   "cell_type": "code",
   "execution_count": 3,
   "metadata": {},
   "outputs": [
    {
     "name": "stdout",
     "output_type": "stream",
     "text": [
      "Health check response: {'message': 'Wine Recommendation API is running'}\n"
     ]
    }
   ],
   "source": [
    "response = requests.get(f\"{BASE_URL}/\")\n",
    "print(\"Health check response:\", response.json())"
   ]
  },
  {
   "cell_type": "markdown",
   "metadata": {},
   "source": [
    "### Получение рекомендации по винам"
   ]
  },
  {
   "cell_type": "code",
   "execution_count": 4,
   "metadata": {},
   "outputs": [
    {
     "name": "stdout",
     "output_type": "stream",
     "text": [
      "{'response': 'К рыбе лучше всего подойдут следующие вина:\\n\\n1. **Добро Пожаловать** – это вино идеально сочетается с рыбными блюдами благодаря своему богатому вкусу с нотками черной смородины и черники.\\n   \\n2. **Долина реки Ру** – обладает полнотелым вкусом с ароматами красных фруктов и мягкими танинами, что делает его хорошим выбором для рыбы.\\n\\n3. **Don Pedro** – хотя оно больше известно своими высокими оценками от критиков, его структура и баланс также делают его подходящим вариантом для подачи с рыбой.'}\n"
     ]
    }
   ],
   "source": [
    "endpoint = f\"{BASE_URL}/recommend/\"\n",
    "payload = {\n",
    "        \"question\": \"Какое вино подойдет к рыбе?\"\n",
    "    }\n",
    "\n",
    "try:\n",
    "    response = requests.post(\n",
    "        endpoint,\n",
    "        json=payload,\n",
    "        headers={\"Content-Type\": \"application/json\"}\n",
    "    )\n",
    "    \n",
    "    response.raise_for_status()\n",
    "    \n",
    "    result = response.json()\n",
    "    print(result)\n",
    "\n",
    "except requests.exceptions.RequestException as e:\n",
    "    print(f\"Error making request: {e}\")"
   ]
  },
  {
   "cell_type": "code",
   "execution_count": null,
   "metadata": {},
   "outputs": [],
   "source": []
  }
 ],
 "metadata": {
  "kernelspec": {
   "display_name": ".venv",
   "language": "python",
   "name": "python3"
  },
  "language_info": {
   "codemirror_mode": {
    "name": "ipython",
    "version": 3
   },
   "file_extension": ".py",
   "mimetype": "text/x-python",
   "name": "python",
   "nbconvert_exporter": "python",
   "pygments_lexer": "ipython3",
   "version": "3.12.0"
  }
 },
 "nbformat": 4,
 "nbformat_minor": 2
}
